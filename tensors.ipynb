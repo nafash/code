{
  "nbformat": 4,
  "nbformat_minor": 0,
  "metadata": {
    "colab": {
      "provenance": [],
      "gpuType": "T4"
    },
    "kernelspec": {
      "name": "python3",
      "display_name": "Python 3"
    },
    "language_info": {
      "name": "python"
    },
    "accelerator": "GPU"
  },
  "cells": [
    {
      "cell_type": "markdown",
      "source": [
        "Create a random tensor with shape (7, 7)."
      ],
      "metadata": {
        "id": "TcvctAO_QElS"
      }
    },
    {
      "cell_type": "code",
      "execution_count": null,
      "metadata": {
        "colab": {
          "base_uri": "https://localhost:8080/"
        },
        "id": "7KlIE5ygQCAZ",
        "outputId": "1ff25a53-88ab-4d85-e7a4-7d5d20125ec5"
      },
      "outputs": [
        {
          "output_type": "execute_result",
          "data": {
            "text/plain": [
              "(tensor([[0.1224, 0.0062, 0.8927, 0.0487, 0.3684, 0.6206, 0.6318],\n",
              "         [0.6041, 0.2527, 0.4728, 0.8083, 0.9712, 0.0087, 0.6115],\n",
              "         [0.1591, 0.4681, 0.5237, 0.3670, 0.2252, 0.3006, 0.2714],\n",
              "         [0.4020, 0.8884, 0.4128, 0.1452, 0.7504, 0.8491, 0.7432],\n",
              "         [0.1277, 0.6663, 0.8539, 0.0437, 0.9333, 0.4018, 0.7879],\n",
              "         [0.6182, 0.5840, 0.3419, 0.7736, 0.3404, 0.2413, 0.5206],\n",
              "         [0.9980, 0.8512, 0.4604, 0.6914, 0.9883, 0.5789, 0.0192]]),\n",
              " torch.Size([7, 7]))"
            ]
          },
          "metadata": {},
          "execution_count": 1
        }
      ],
      "source": [
        "import torch\n",
        "import random\n",
        "# Create a random tensor of size (7, 7)\n",
        "random_tensor = torch.rand(size=(7, 7))\n",
        "random_tensor, random_tensor.shape"
      ]
    },
    {
      "cell_type": "markdown",
      "source": [
        "Perform a matrix multiplication on the tensor from 2 with another random tensor with shape (1, 7) (hint: you may have to transpose the second tensor)."
      ],
      "metadata": {
        "id": "RRATyk_PQ-Gy"
      }
    },
    {
      "cell_type": "code",
      "source": [
        "# Create a random tensor of size (1, 7)\n",
        "random_tensor1 = torch.rand(size=(1, 7))\n",
        "random_tensor1 = random_tensor1.T\n",
        "\n",
        "result = torch.matmul(random_tensor, random_tensor1)\n",
        "result, result.shape"
      ],
      "metadata": {
        "colab": {
          "base_uri": "https://localhost:8080/"
        },
        "id": "UzFyD_xwQ-rc",
        "outputId": "bedfda99-f97a-4f57-e0ff-7bf8a71d58b2"
      },
      "execution_count": null,
      "outputs": [
        {
          "output_type": "execute_result",
          "data": {
            "text/plain": [
              "(tensor([[2.9138],\n",
              "         [2.2021],\n",
              "         [2.4702],\n",
              "         [1.2455],\n",
              "         [3.3136],\n",
              "         [1.9538],\n",
              "         [2.4030]]),\n",
              " torch.Size([7, 1]))"
            ]
          },
          "metadata": {},
          "execution_count": 2
        }
      ]
    },
    {
      "cell_type": "markdown",
      "source": [
        "Set the random seed to 0 and do exercises 2 & 3 over again."
      ],
      "metadata": {
        "id": "LSzJhWEeSULp"
      }
    },
    {
      "cell_type": "code",
      "source": [
        "#Setando a Random_Seed como zero\n",
        "RANDOM_SEED=0\n",
        "torch.manual_seed(seed=RANDOM_SEED)\n",
        "#Criando os Tensores aleatórios\n",
        "random_tensor_1 = torch.rand(7, 7)\n",
        "random_tensor_2 = torch.rand(1, 7)\n",
        "#Transpondo o tensor 2 para fazer uma multiplicação\n",
        "random_tensor2 = random_tensor1.T\n",
        "#Fazendo a multiplicação\n",
        "result = torch.matmul(random_tensor, random_tensor1)\n",
        "result, result.shape"
      ],
      "metadata": {
        "colab": {
          "base_uri": "https://localhost:8080/"
        },
        "id": "0nVV3fWFSVYi",
        "outputId": "7100b0e8-bc1f-49dc-c70d-bfc95c73ed1c"
      },
      "execution_count": null,
      "outputs": [
        {
          "output_type": "execute_result",
          "data": {
            "text/plain": [
              "tensor([[2.0771],\n",
              "        [2.6047],\n",
              "        [2.1881],\n",
              "        [2.6202],\n",
              "        [1.9160],\n",
              "        [2.0793],\n",
              "        [2.6524]])"
            ]
          },
          "metadata": {},
          "execution_count": 8
        }
      ]
    },
    {
      "cell_type": "markdown",
      "source": [
        "Speaking of random seeds, we saw how to set it with torch.manual_seed() but is there a GPU equivalent? (hint: you'll need to look into the documentation for torch.cuda for this one). If there is, set the GPU random seed to 1234."
      ],
      "metadata": {
        "id": "QguaSDl3TbpX"
      }
    },
    {
      "cell_type": "code",
      "source": [
        "#Testando se o torch está usando meus CUDA cores\n",
        "#BTW, agora seria uma hora boa de ter uma GPU Nvidia\n",
        "#Talvez dê pra brincar depois com isso\n",
        "torch.cuda.is_available()\n",
        "\n",
        "# Set device type\n",
        "device = \"cuda\" if torch.cuda.is_available() else \"cpu\"\n",
        "device"
      ],
      "metadata": {
        "colab": {
          "base_uri": "https://localhost:8080/",
          "height": 35
        },
        "id": "eOYl3JG9Tcbx",
        "outputId": "7b45c50a-f28b-490a-f398-6932167e5cdf"
      },
      "execution_count": null,
      "outputs": [
        {
          "output_type": "execute_result",
          "data": {
            "text/plain": [
              "'cuda'"
            ],
            "application/vnd.google.colaboratory.intrinsic+json": {
              "type": "string"
            }
          },
          "metadata": {},
          "execution_count": 14
        }
      ]
    },
    {
      "cell_type": "code",
      "source": [
        "# Create tensor (default on CPU)\n",
        "tensor = torch.tensor([1, 2, 3])\n",
        "\n",
        "# Tensor not on GPU\n",
        "print(tensor, tensor.device)\n",
        "\n",
        "# Move tensor to GPU (if available)\n",
        "tensor_on_gpu = tensor.to('cuda')\n",
        "tensor_on_gpu"
      ],
      "metadata": {
        "colab": {
          "base_uri": "https://localhost:8080/"
        },
        "id": "t9uKX6TDUu1c",
        "outputId": "f65021ba-34fc-483a-e5f3-aca830ae5bb4"
      },
      "execution_count": null,
      "outputs": [
        {
          "output_type": "stream",
          "name": "stdout",
          "text": [
            "tensor([1, 2, 3]) cpu\n"
          ]
        },
        {
          "output_type": "execute_result",
          "data": {
            "text/plain": [
              "tensor([1, 2, 3], device='cuda:0')"
            ]
          },
          "metadata": {},
          "execution_count": 15
        }
      ]
    },
    {
      "cell_type": "code",
      "source": [
        "#Setando a Random_Seed como zero\n",
        "RANDOM_SEED=1234\n",
        "torch.manual_seed(seed=RANDOM_SEED)\n",
        "#Criando os Tensores aleatórios\n",
        "tensor = torch.rand(2, 3)\n",
        "\n",
        "#Mandando eles para a GPU\n",
        "tensor_on_gpu = tensor.to('cuda')\n",
        "tensor_on_gpu"
      ],
      "metadata": {
        "colab": {
          "base_uri": "https://localhost:8080/"
        },
        "id": "9aJ7MYJGVjD9",
        "outputId": "723558e9-fdf3-482b-b74d-55ef8900b00f"
      },
      "execution_count": null,
      "outputs": [
        {
          "output_type": "execute_result",
          "data": {
            "text/plain": [
              "tensor([[0.0290, 0.4019, 0.2598],\n",
              "        [0.3666, 0.0583, 0.7006]], device='cuda:0')"
            ]
          },
          "metadata": {},
          "execution_count": 2
        }
      ]
    },
    {
      "cell_type": "markdown",
      "source": [
        "Create two random tensors of shape (2, 3) and send them both to the GPU (you'll need access to a GPU for this). Set torch.manual_seed(1234) when creating the tensors (this doesn't have to be the GPU random seed)."
      ],
      "metadata": {
        "id": "Um9KoSPbV-Ha"
      }
    },
    {
      "cell_type": "code",
      "source": [
        "#Setando a Random_Seed como zero\n",
        "RANDOM_SEED=1234\n",
        "torch.manual_seed(seed=1234)\n",
        "#Criando os Tensores aleatórios\n",
        "tensor_One = torch.rand(2, 3)\n",
        "tensor_Two = torch.rand(2, 3)\n",
        "\n",
        "#Mandando eles para a GPU\n",
        "tensor_on_gpu_One = tensor_One.to('cuda')\n",
        "tensor_on_gpu_Two = tensor_Two.to('cuda')\n",
        "print(f\"Tensor 1:\\n{tensor_on_gpu_One}\\n\")\n",
        "print(f\"Tensor 2:\\n{tensor_on_gpu_Two}\\n\")"
      ],
      "metadata": {
        "colab": {
          "base_uri": "https://localhost:8080/"
        },
        "id": "TbPhNGXEV_A0",
        "outputId": "7bd5ae77-72d7-4397-8f42-692f3c69c254"
      },
      "execution_count": null,
      "outputs": [
        {
          "output_type": "stream",
          "name": "stdout",
          "text": [
            "Tensor 1:\n",
            "tensor([[0.0290, 0.4019, 0.2598],\n",
            "        [0.3666, 0.0583, 0.7006]], device='cuda:0')\n",
            "\n",
            "Tensor 2:\n",
            "tensor([[0.0518, 0.4681, 0.6738],\n",
            "        [0.3315, 0.7837, 0.5631]], device='cuda:0')\n",
            "\n"
          ]
        }
      ]
    },
    {
      "cell_type": "markdown",
      "source": [
        "Perform a matrix multiplication on the tensors you created in 6 (again, you may have to adjust the shapes of one of the tensors)."
      ],
      "metadata": {
        "id": "jpO6IhGHWlDm"
      }
    },
    {
      "cell_type": "code",
      "source": [
        "#Mandando eles para a GPU\n",
        "tensor_on_gpu_Two = tensor_on_gpu_Two.T\n",
        "\n",
        "#Professor, por algum motivo, as vezes vai. as vezes não;\n",
        "tensor_result = torch.mul(tensor_on_gpu_One, tensor_on_gpu_Two)\n",
        "print(tensor_result)"
      ],
      "metadata": {
        "colab": {
          "base_uri": "https://localhost:8080/"
        },
        "id": "nFSHcfY2Wloa",
        "outputId": "b4d17737-0c36-4d99-cc7e-e7a5f44eb639"
      },
      "execution_count": null,
      "outputs": [
        {
          "output_type": "stream",
          "name": "stdout",
          "text": [
            "tensor([[0.0015, 0.1881, 0.1751],\n",
            "        [0.1215, 0.0457, 0.3945]], device='cuda:0')\n"
          ]
        }
      ]
    },
    {
      "cell_type": "markdown",
      "source": [
        "Find the maximum and minimum values of the output of 7."
      ],
      "metadata": {
        "id": "UAQEJgyDXgPx"
      }
    },
    {
      "cell_type": "code",
      "source": [
        "print(f\"Minimo: {tensor_result.min()}\")\n",
        "print(f\"Maximo: {tensor_result.max()}\")\n",
        "print(f\"Soma: {tensor_result.sum()}\")"
      ],
      "metadata": {
        "colab": {
          "base_uri": "https://localhost:8080/"
        },
        "id": "drVelyrlXh9k",
        "outputId": "75593b9b-1b86-4ca6-e501-bfd82e9bb0d7"
      },
      "execution_count": null,
      "outputs": [
        {
          "output_type": "stream",
          "name": "stdout",
          "text": [
            "Minimo: 0.0015010491479188204\n",
            "Maximo: 0.3945072591304779\n",
            "Soma: 0.9264557957649231\n"
          ]
        }
      ]
    },
    {
      "cell_type": "markdown",
      "source": [
        "Find the maximum and minimum index values of the output of 7."
      ],
      "metadata": {
        "id": "BBg_iOuNYmId"
      }
    },
    {
      "cell_type": "code",
      "source": [
        "print(f\"Minimo: {tensor_result.argmin()}\")\n",
        "print(f\"Maximo: {tensor_result.argmax()}\")"
      ],
      "metadata": {
        "colab": {
          "base_uri": "https://localhost:8080/"
        },
        "id": "TNgjVZiUYn4C",
        "outputId": "fa5785d7-56af-401f-a1e9-6dbc5940e78d"
      },
      "execution_count": null,
      "outputs": [
        {
          "output_type": "stream",
          "name": "stdout",
          "text": [
            "Minimo: 0\n",
            "Maximo: 5\n"
          ]
        }
      ]
    },
    {
      "cell_type": "markdown",
      "source": [
        "Make a random tensor with shape (1, 1, 1, 10) and then create a new tensor with all the 1 dimensions removed to be left with a tensor of shape (10). Set the seed to 7 when you create it and print out the first tensor and it's shape as well as the second tensor and it's shape."
      ],
      "metadata": {
        "id": "BTk0Wf0rY28R"
      }
    },
    {
      "cell_type": "code",
      "source": [
        "# Create a random tensor of size (1, 7)\n",
        "random_tensor_UNO = torch.rand(size=(1, 1, 1, 10))\n",
        "print(f\"Previous tensor: {random_tensor_UNO}\")\n",
        "print(f\"Previous shape: {random_tensor_UNO.shape}\")\n",
        "\n",
        "#Squeeze\n",
        "Uno_squeezed = random_tensor_UNO.squeeze()\n",
        "print(f\"\\nNew tensor: {Uno_squeezed}\")\n",
        "print(f\"New shape: {Uno_squeezed.shape}\")"
      ],
      "metadata": {
        "colab": {
          "base_uri": "https://localhost:8080/"
        },
        "id": "Won_Ixg3Y3dr",
        "outputId": "65bcecfc-79d5-448b-ebeb-9760e4bc804c"
      },
      "execution_count": null,
      "outputs": [
        {
          "output_type": "stream",
          "name": "stdout",
          "text": [
            "Previous tensor: tensor([[[[0.6839, 0.7658, 0.9149, 0.3993, 0.1100, 0.2541, 0.4333, 0.4451,\n",
            "           0.4966, 0.7865]]]])\n",
            "Previous shape: torch.Size([1, 1, 1, 10])\n",
            "\n",
            "New tensor: tensor([0.6839, 0.7658, 0.9149, 0.3993, 0.1100, 0.2541, 0.4333, 0.4451, 0.4966,\n",
            "        0.7865])\n",
            "New shape: torch.Size([10])\n"
          ]
        }
      ]
    }
  ]
}